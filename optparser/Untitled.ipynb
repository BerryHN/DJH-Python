{
 "cells": [
  {
   "cell_type": "code",
   "execution_count": 1,
   "metadata": {
    "collapsed": true
   },
   "outputs": [],
   "source": [
    "from optparse import OptionParser"
   ]
  },
  {
   "cell_type": "code",
   "execution_count": 2,
   "metadata": {
    "collapsed": true
   },
   "outputs": [],
   "source": [
    "OptionParser?"
   ]
  },
  {
   "cell_type": "code",
   "execution_count": 4,
   "metadata": {
    "collapsed": false
   },
   "outputs": [
    {
     "data": {
      "text/plain": [
       "['__class__',\n",
       " '__delattr__',\n",
       " '__dict__',\n",
       " '__dir__',\n",
       " '__doc__',\n",
       " '__eq__',\n",
       " '__format__',\n",
       " '__ge__',\n",
       " '__getattribute__',\n",
       " '__gt__',\n",
       " '__hash__',\n",
       " '__init__',\n",
       " '__init_subclass__',\n",
       " '__le__',\n",
       " '__lt__',\n",
       " '__module__',\n",
       " '__ne__',\n",
       " '__new__',\n",
       " '__reduce__',\n",
       " '__reduce_ex__',\n",
       " '__repr__',\n",
       " '__setattr__',\n",
       " '__sizeof__',\n",
       " '__str__',\n",
       " '__subclasshook__',\n",
       " '__weakref__',\n",
       " '_add_help_option',\n",
       " '_add_version_option',\n",
       " '_check_conflict',\n",
       " '_create_option_list',\n",
       " '_create_option_mappings',\n",
       " '_get_all_options',\n",
       " '_get_args',\n",
       " '_init_parsing_state',\n",
       " '_match_long_opt',\n",
       " '_populate_option_list',\n",
       " '_process_args',\n",
       " '_process_long_opt',\n",
       " '_process_short_opts',\n",
       " '_share_option_mappings',\n",
       " 'add_option',\n",
       " 'add_option_group',\n",
       " 'add_options',\n",
       " 'check_values',\n",
       " 'destroy',\n",
       " 'disable_interspersed_args',\n",
       " 'enable_interspersed_args',\n",
       " 'error',\n",
       " 'exit',\n",
       " 'expand_prog_name',\n",
       " 'format_description',\n",
       " 'format_epilog',\n",
       " 'format_help',\n",
       " 'format_option_help',\n",
       " 'get_default_values',\n",
       " 'get_description',\n",
       " 'get_option',\n",
       " 'get_option_group',\n",
       " 'get_prog_name',\n",
       " 'get_usage',\n",
       " 'get_version',\n",
       " 'has_option',\n",
       " 'parse_args',\n",
       " 'print_help',\n",
       " 'print_usage',\n",
       " 'print_version',\n",
       " 'remove_option',\n",
       " 'set_conflict_handler',\n",
       " 'set_default',\n",
       " 'set_defaults',\n",
       " 'set_description',\n",
       " 'set_process_default_values',\n",
       " 'set_usage',\n",
       " 'standard_option_list']"
      ]
     },
     "execution_count": 4,
     "metadata": {},
     "output_type": "execute_result"
    }
   ],
   "source": [
    "dir(OptionParser)"
   ]
  },
  {
   "cell_type": "code",
   "execution_count": 12,
   "metadata": {
    "collapsed": true
   },
   "outputs": [],
   "source": [
    "parser = OptionParser()\n",
    "parser.add_option(\"-f\", \"--file\", dest=\"filename\",\n",
    "                  help=\"write report to FILE\", metavar=\"FILE\")\n",
    "parser.add_option(\"-q\", \"--quiet\",\n",
    "                  action=\"store_false\", dest=\"verbose\", default=True,\n",
    "                  help=\"don't print status messages to stdout\")\n",
    "parser.add_option(\"-d\",dest=\"djh\", default=True,\n",
    "                  help=\"test\")\n",
    "\n",
    "(options, args) = parser.parse_args()"
   ]
  },
  {
   "cell_type": "code",
   "execution_count": 6,
   "metadata": {
    "collapsed": false
   },
   "outputs": [
    {
     "data": {
      "text/plain": [
       "'\\n<yourscript> -f outfile --quiet\\n<yourscript> --quiet --file outfile\\n<yourscript> -q -foutfile\\n<yourscript> -qfoutfile\\n<yourscript> -h\\n<yourscript> --help\\n'"
      ]
     },
     "execution_count": 6,
     "metadata": {},
     "output_type": "execute_result"
    }
   ],
   "source": [
    "'''\n",
    "<yourscript> -f outfile --quiet\n",
    "<yourscript> --quiet --file outfile\n",
    "<yourscript> -q -foutfile\n",
    "<yourscript> -qfoutfile\n",
    "<yourscript> -h\n",
    "<yourscript> --help\n",
    "'''"
   ]
  },
  {
   "cell_type": "code",
   "execution_count": 7,
   "metadata": {
    "collapsed": true
   },
   "outputs": [],
   "source": [
    "parser.description"
   ]
  },
  {
   "cell_type": "code",
   "execution_count": 9,
   "metadata": {
    "collapsed": false
   },
   "outputs": [
    {
     "data": {
      "text/plain": [
       "'Usage: __main__.py [options]\\n'"
      ]
     },
     "execution_count": 9,
     "metadata": {},
     "output_type": "execute_result"
    }
   ],
   "source": [
    "parser.get_usage()"
   ]
  },
  {
   "cell_type": "code",
   "execution_count": 10,
   "metadata": {
    "collapsed": false
   },
   "outputs": [
    {
     "data": {
      "text/plain": [
       "'C:\\\\Users\\\\jason\\\\AppData\\\\Roaming\\\\jupyter\\\\runtime\\\\kernel-4eee797d-cb65-40e3-9101-d7e237e01dbb.json'"
      ]
     },
     "execution_count": 10,
     "metadata": {},
     "output_type": "execute_result"
    }
   ],
   "source": [
    "options.filename"
   ]
  },
  {
   "cell_type": "code",
   "execution_count": 14,
   "metadata": {
    "collapsed": false
   },
   "outputs": [
    {
     "data": {
      "text/plain": [
       "True"
      ]
     },
     "execution_count": 14,
     "metadata": {},
     "output_type": "execute_result"
    }
   ],
   "source": [
    "options.djh"
   ]
  },
  {
   "cell_type": "code",
   "execution_count": 15,
   "metadata": {
    "collapsed": false
   },
   "outputs": [
    {
     "data": {
      "text/plain": [
       "[]"
      ]
     },
     "execution_count": 15,
     "metadata": {},
     "output_type": "execute_result"
    }
   ],
   "source": [
    "args"
   ]
  },
  {
   "cell_type": "code",
   "execution_count": null,
   "metadata": {
    "collapsed": true
   },
   "outputs": [],
   "source": []
  },
  {
   "cell_type": "code",
   "execution_count": null,
   "metadata": {
    "collapsed": true
   },
   "outputs": [],
   "source": []
  },
  {
   "cell_type": "code",
   "execution_count": null,
   "metadata": {
    "collapsed": true
   },
   "outputs": [],
   "source": []
  },
  {
   "cell_type": "code",
   "execution_count": null,
   "metadata": {
    "collapsed": true
   },
   "outputs": [],
   "source": []
  },
  {
   "cell_type": "code",
   "execution_count": null,
   "metadata": {
    "collapsed": true
   },
   "outputs": [],
   "source": []
  },
  {
   "cell_type": "code",
   "execution_count": null,
   "metadata": {
    "collapsed": true
   },
   "outputs": [],
   "source": []
  }
 ],
 "metadata": {
  "kernelspec": {
   "display_name": "Python 3",
   "language": "python",
   "name": "python3"
  },
  "language_info": {
   "codemirror_mode": {
    "name": "ipython",
    "version": 3
   },
   "file_extension": ".py",
   "mimetype": "text/x-python",
   "name": "python",
   "nbconvert_exporter": "python",
   "pygments_lexer": "ipython3",
   "version": "3.6.0"
  }
 },
 "nbformat": 4,
 "nbformat_minor": 2
}
