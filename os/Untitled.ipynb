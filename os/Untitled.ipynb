{
 "cells": [
  {
   "cell_type": "code",
   "execution_count": 1,
   "metadata": {
    "collapsed": true
   },
   "outputs": [],
   "source": [
    "import os"
   ]
  },
  {
   "cell_type": "code",
   "execution_count": 2,
   "metadata": {
    "collapsed": true
   },
   "outputs": [],
   "source": [
    "os?"
   ]
  },
  {
   "cell_type": "code",
   "execution_count": 3,
   "metadata": {
    "collapsed": false
   },
   "outputs": [
    {
     "data": {
      "text/plain": [
       "\"\\n\\n- all functions from posix or nt, e.g. unlink, stat, etc.\\n- os.path is either posixpath or ntpath\\n- os.name is either 'posix' or 'nt'\\n- os.curdir is a string representing the current directory (always '.')\\n- os.pardir is a string representing the parent directory (always '..')\\n- os.sep is the (or a most common) pathname separator ('/' or '\\\\')\\n- os.extsep is the extension separator (always '.')\\n- os.altsep is the alternate pathname separator (None or '/')\\n- os.pathsep is the component separator used in $PATH etc\\n- os.linesep is the line separator in text files ('\\r' or '\\n' or '\\r\\n')\\n- os.defpath is the default search path for executables\\n- os.devnull is the file path of the null device ('/dev/null', etc.)\\n\\n\""
      ]
     },
     "execution_count": 3,
     "metadata": {},
     "output_type": "execute_result"
    }
   ],
   "source": [
    "'''\n",
    "\n",
    "- all functions from posix or nt, e.g. unlink, stat, etc.\n",
    "- os.path is either posixpath or ntpath\n",
    "- os.name is either 'posix' or 'nt'\n",
    "- os.curdir is a string representing the current directory (always '.')\n",
    "- os.pardir is a string representing the parent directory (always '..')\n",
    "- os.sep is the (or a most common) pathname separator ('/' or '\\\\')\n",
    "- os.extsep is the extension separator (always '.')\n",
    "- os.altsep is the alternate pathname separator (None or '/')\n",
    "- os.pathsep is the component separator used in $PATH etc\n",
    "- os.linesep is the line separator in text files ('\\r' or '\\n' or '\\r\\n')\n",
    "- os.defpath is the default search path for executables\n",
    "- os.devnull is the file path of the null device ('/dev/null', etc.)\n",
    "\n",
    "'''"
   ]
  },
  {
   "cell_type": "code",
   "execution_count": 4,
   "metadata": {
    "collapsed": false
   },
   "outputs": [
    {
     "data": {
      "text/plain": [
       "<module 'ntpath' from 'E:\\\\Anaconda3\\\\lib\\\\ntpath.py'>"
      ]
     },
     "execution_count": 4,
     "metadata": {},
     "output_type": "execute_result"
    }
   ],
   "source": [
    "os.path"
   ]
  },
  {
   "cell_type": "code",
   "execution_count": 5,
   "metadata": {
    "collapsed": false
   },
   "outputs": [
    {
     "data": {
      "text/plain": [
       "'.'"
      ]
     },
     "execution_count": 5,
     "metadata": {},
     "output_type": "execute_result"
    }
   ],
   "source": [
    "os.curdir"
   ]
  },
  {
   "cell_type": "code",
   "execution_count": 6,
   "metadata": {
    "collapsed": true
   },
   "outputs": [],
   "source": [
    "os.mkdir('testdir')"
   ]
  },
  {
   "cell_type": "code",
   "execution_count": 7,
   "metadata": {
    "collapsed": false
   },
   "outputs": [
    {
     "name": "stdout",
     "output_type": "stream",
     "text": [
      " 驱动器 D 中的卷没有标签。\n",
      " 卷的序列号是 2E66-0EF2\n",
      "\n",
      " D:\\github\\A_DJH\\DJH-Python\\libs\\os 的目录\n",
      "\n",
      "2018/03/13  11:41    <DIR>          .\n",
      "2018/03/13  11:41    <DIR>          ..\n",
      "2018/03/13  11:39    <DIR>          .ipynb_checkpoints\n",
      "2018/03/13  11:41    <DIR>          testdir\n",
      "2018/03/13  11:40             1,767 Untitled.ipynb\n",
      "               1 个文件          1,767 字节\n",
      "               4 个目录 90,138,648,576 可用字节\n"
     ]
    }
   ],
   "source": [
    "ls"
   ]
  },
  {
   "cell_type": "code",
   "execution_count": 8,
   "metadata": {
    "collapsed": true
   },
   "outputs": [],
   "source": [
    "os.makedirs('dirs/dirs/dir')"
   ]
  },
  {
   "cell_type": "code",
   "execution_count": 19,
   "metadata": {
    "collapsed": false
   },
   "outputs": [
    {
     "data": {
      "text/plain": [
       "['dir']"
      ]
     },
     "execution_count": 19,
     "metadata": {},
     "output_type": "execute_result"
    }
   ],
   "source": [
    "os.listdir('dirs')"
   ]
  },
  {
   "cell_type": "code",
   "execution_count": 20,
   "metadata": {
    "collapsed": false
   },
   "outputs": [
    {
     "data": {
      "text/plain": [
       "environ({'ALIASES': 'E:\\\\cmder\\\\config\\\\user-aliases.cmd', 'ALLUSERSPROFILE': 'C:\\\\ProgramData', 'ANSICON': '73x1000 (73x18)', 'ANSICON_DEF': '7', 'APPDATA': 'C:\\\\Users\\\\jason\\\\AppData\\\\Roaming', 'ARCHITECTURE': '64', 'CLASSPATH': 'D:\\\\jdk1.8.0_51\\\\lib\\\\dt.jar;D:\\\\jdk1.8.0_51\\\\lib\\\\tools.jar;', 'CMDER_ROOT': 'E:\\\\cmder', 'CMDER_START': 'D:\\\\github\\\\A_DJH\\\\DJH-Python\\\\libs\\\\codecs', 'COMMONPROGRAMFILES': 'C:\\\\Program Files\\\\Common Files', 'COMMONPROGRAMFILES(X86)': 'C:\\\\Program Files (x86)\\\\Common Files', 'COMMONPROGRAMW6432': 'C:\\\\Program Files\\\\Common Files', 'COMPUTERNAME': 'DJH', 'COMSPEC': 'C:\\\\WINDOWS\\\\system32\\\\cmd.exe', 'CONEMUANSI': 'ON', 'CONEMUANSILOG': '', 'CONEMUARGS': '/Icon \"E:\\\\cmder\\\\icons\\\\cmder.ico\" /Title Cmder', 'CONEMUARGS2': '', 'CONEMUBACKHWND': '0x000806EA', 'CONEMUBASEDIR': 'E:\\\\cmder\\\\vendor\\\\conemu-maximus5\\\\ConEmu', 'CONEMUBASEDIRSHORT': 'E:\\\\cmder\\\\vendor\\\\conemu-maximus5\\\\ConEmu', 'CONEMUBUILD': '171025', 'CONEMUCFGDIR': 'E:\\\\cmder\\\\vendor\\\\conemu-maximus5', 'CONEMUCONFIG': '', 'CONEMUDIR': 'E:\\\\cmder\\\\vendor\\\\conemu-maximus5', 'CONEMUDRAWHWND': '0x000D0594', 'CONEMUDRIVE': 'E:', 'CONEMUHOOKS': 'Enabled', 'CONEMUHWND': '0x00280670', 'CONEMUPALETTE': 'Monokai', 'CONEMUPID': '9728', 'CONEMUSERVERPID': '7284', 'CONEMUTASK': '{cmd::Cmder}', 'CONEMUWORKDIR': 'C:\\\\Users\\\\jason', 'CONEMUWORKDRIVE': 'C:', 'FPS_BROWSER_APP_PROFILE_STRING': 'Internet Explorer', 'FPS_BROWSER_USER_PROFILE_STRING': 'Default', 'GIT_INSTALL_ROOT': 'E:\\\\Program Files\\\\Git', 'HOME': 'C:\\\\WINDOWS\\\\system32\\\\config\\\\systemprofile', 'HOMEDRIVE': 'C:', 'HOMEPATH': '\\\\Users\\\\jason', 'LOCALAPPDATA': 'C:\\\\Users\\\\jason\\\\AppData\\\\Local', 'LOGONSERVER': '\\\\\\\\DJH', 'NUMBER_OF_PROCESSORS': '4', 'ONEDRIVE': 'C:\\\\Users\\\\jason\\\\OneDrive', 'OS': 'Windows_NT', 'PATH': 'E:\\\\Anaconda3\\\\Library\\\\bin;E:\\\\Anaconda3\\\\Library\\\\bin;E:\\\\Anaconda3\\\\Scripts;E:\\\\Anaconda3\\\\Library\\\\bin;E:\\\\cmder\\\\bin;E:\\\\cmder\\\\vendor\\\\conemu-maximus5\\\\ConEmu\\\\Scripts;E:\\\\cmder\\\\vendor\\\\conemu-maximus5;E:\\\\cmder\\\\vendor\\\\conemu-maximus5\\\\ConEmu;D:\\\\jdk1.8.0_51\\\\bin;C:\\\\WINDOWS\\\\system32;C:\\\\WINDOWS;C:\\\\WINDOWS\\\\System32\\\\Wbem;C:\\\\WINDOWS\\\\System32\\\\WindowsPowerShell\\\\v1.0\\\\;E:\\\\Program Files\\\\TortoiseSVN\\\\bin;C:\\\\Users\\\\jason\\\\Anaconda2;E:\\\\Program Files\\\\CodeBlocks\\\\MinGW\\\\bin;E:\\\\Program Files\\\\Git\\\\bin;E:\\\\Program Files\\\\Git\\\\cmd;C:\\\\Program Files (x86)\\\\Windows Kits\\\\8.1\\\\Windows Performance Toolkit\\\\;E:\\\\cmder;C:\\\\Users\\\\jason\\\\.gradle\\\\wrapper\\\\dists\\\\gradle-4.0-bin\\\\3p92xsbhik5vmig8i90n16yxc\\\\gradle-4.0\\\\bin;D:\\\\apache-maven-3.5.2\\\\bin;E:\\\\Anaconda3;E:\\\\Anaconda3\\\\Scripts;E:\\\\Anaconda3\\\\Library\\\\bin;C:\\\\Users\\\\jason\\\\AppData\\\\Local\\\\Microsoft\\\\WindowsApps;E:\\\\Program Files\\\\nodejs\\\\node_global;C:\\\\Users\\\\jason\\\\AppData\\\\Local\\\\Microsoft\\\\WindowsApps;E:\\\\Program Files\\\\Microsoft VS Code\\\\bin;C:\\\\Users\\\\jason\\\\AppData\\\\Local\\\\GitHubDesktop\\\\bin;E:\\\\Program Files\\\\Bandizip6.1\\\\;E:\\\\Program Files\\\\Git\\\\usr\\\\bin;E:\\\\Program Files\\\\Git\\\\usr\\\\share\\\\vim\\\\vim74;E:\\\\cmder\\\\', 'PATHEXT': '.COM;.EXE;.BAT;.CMD;.VBS;.VBE;.JS;.JSE;.WSF;.WSH;.MSC', 'PLINK_PROTOCOL': 'ssh', 'PROCESSOR_ARCHITECTURE': 'AMD64', 'PROCESSOR_IDENTIFIER': 'Intel64 Family 6 Model 60 Stepping 3, GenuineIntel', 'PROCESSOR_LEVEL': '6', 'PROCESSOR_REVISION': '3c03', 'PROGRAMDATA': 'C:\\\\ProgramData', 'PROGRAMFILES': 'C:\\\\Program Files', 'PROGRAMFILES(X86)': 'C:\\\\Program Files (x86)', 'PROGRAMW6432': 'C:\\\\Program Files', 'PROMPT': 'C\\x08L\\x08I\\x08N\\x08K\\x08 \\x08$P$G', 'PSMODULEPATH': 'C:\\\\Program Files\\\\WindowsPowerShell\\\\Modules;C:\\\\WINDOWS\\\\system32\\\\WindowsPowerShell\\\\v1.0\\\\Modules', 'PUBLIC': 'C:\\\\Users\\\\Public', 'SESSIONNAME': 'Console', 'SVN_SSH': 'E:\\\\\\\\Program Files\\\\\\\\Git\\\\\\\\bin\\\\\\\\ssh.exe', 'SYSTEMDRIVE': 'C:', 'SYSTEMROOT': 'C:\\\\WINDOWS', 'TEMP': 'C:\\\\Users\\\\jason\\\\AppData\\\\Local\\\\Temp', 'TERM': 'xterm-color', 'TMP': 'C:\\\\Users\\\\jason\\\\AppData\\\\Local\\\\Temp', 'USER-ALIASES': 'E:\\\\cmder\\\\config\\\\user-aliases.cmd', 'USERDOMAIN': 'DJH', 'USERDOMAIN_ROAMINGPROFILE': 'DJH', 'USERNAME': 'jason', 'USERPROFILE': 'C:\\\\Users\\\\jason', 'VBOX_MSI_INSTALL_PATH': 'E:\\\\Program Files\\\\virtual_box\\\\', 'VERBOSE-OUTPUT': '0 ', 'VS140COMNTOOLS': 'C:\\\\Program Files (x86)\\\\Microsoft Visual Studio 14.0\\\\Common7\\\\Tools\\\\', 'WINDIR': 'C:\\\\WINDOWS', 'JPY_INTERRUPT_EVENT': '1800', 'IPY_INTERRUPT_EVENT': '1800', 'JPY_PARENT_PID': '1648', 'CLICOLOR': '1', 'PAGER': 'cat', 'GIT_PAGER': 'cat', 'MPLBACKEND': 'module://ipykernel.pylab.backend_inline'})"
      ]
     },
     "execution_count": 20,
     "metadata": {},
     "output_type": "execute_result"
    }
   ],
   "source": [
    "os.environ"
   ]
  },
  {
   "cell_type": "code",
   "execution_count": 23,
   "metadata": {
    "collapsed": false
   },
   "outputs": [
    {
     "name": "stdout",
     "output_type": "stream",
     "text": [
      "D:\\github\\A_DJH\\DJH-Python\\libs\\os\n"
     ]
    }
   ],
   "source": [
    "cd .."
   ]
  },
  {
   "cell_type": "code",
   "execution_count": 24,
   "metadata": {
    "collapsed": false
   },
   "outputs": [
    {
     "name": "stdout",
     "output_type": "stream",
     "text": [
      " 驱动器 D 中的卷没有标签。\n",
      " 卷的序列号是 2E66-0EF2\n",
      "\n",
      " D:\\github\\A_DJH\\DJH-Python\\libs\\os 的目录\n",
      "\n",
      "2018/03/13  11:41    <DIR>          .\n",
      "2018/03/13  11:41    <DIR>          ..\n",
      "2018/03/13  11:39    <DIR>          .ipynb_checkpoints\n",
      "2018/03/13  11:41    <DIR>          dirs\n",
      "2018/03/13  11:41    <DIR>          testdir\n",
      "2018/03/13  11:41             5,580 Untitled.ipynb\n",
      "               1 个文件          5,580 字节\n",
      "               5 个目录 90,138,640,384 可用字节\n"
     ]
    }
   ],
   "source": [
    "ls"
   ]
  },
  {
   "cell_type": "code",
   "execution_count": 25,
   "metadata": {
    "collapsed": false
   },
   "outputs": [
    {
     "ename": "PermissionError",
     "evalue": "[WinError 5] 拒绝访问。: 'testdir'",
     "output_type": "error",
     "traceback": [
      "\u001b[0;31m-------------------------------------------------------------------------\u001b[0m",
      "\u001b[0;31mPermissionError\u001b[0m                         Traceback (most recent call last)",
      "\u001b[0;32m<ipython-input-25-a5a00b83942e>\u001b[0m in \u001b[0;36m<module>\u001b[0;34m()\u001b[0m\n\u001b[0;32m----> 1\u001b[0;31m \u001b[0mos\u001b[0m\u001b[1;33m.\u001b[0m\u001b[0mremove\u001b[0m\u001b[1;33m(\u001b[0m\u001b[1;34m'testdir'\u001b[0m\u001b[1;33m)\u001b[0m\u001b[1;33m\u001b[0m\u001b[0m\n\u001b[0m",
      "\u001b[0;31mPermissionError\u001b[0m: [WinError 5] 拒绝访问。: 'testdir'"
     ]
    }
   ],
   "source": [
    "os.remove('testdir')"
   ]
  },
  {
   "cell_type": "code",
   "execution_count": 26,
   "metadata": {
    "collapsed": false
   },
   "outputs": [
    {
     "data": {
      "text/plain": [
       "'D:\\\\github\\\\A_DJH\\\\DJH-Python\\\\libs\\\\os'"
      ]
     },
     "execution_count": 26,
     "metadata": {},
     "output_type": "execute_result"
    }
   ],
   "source": [
    "os.getcwd()"
   ]
  },
  {
   "cell_type": "code",
   "execution_count": 27,
   "metadata": {
    "collapsed": false
   },
   "outputs": [
    {
     "data": {
      "text/plain": [
       "<module 'ntpath' from 'E:\\\\Anaconda3\\\\lib\\\\ntpath.py'>"
      ]
     },
     "execution_count": 27,
     "metadata": {},
     "output_type": "execute_result"
    }
   ],
   "source": [
    "os.path"
   ]
  },
  {
   "cell_type": "code",
   "execution_count": 30,
   "metadata": {
    "collapsed": false
   },
   "outputs": [
    {
     "data": {
      "text/plain": [
       "'E:\\\\Anaconda3\\\\Library\\\\bin;E:\\\\Anaconda3\\\\Library\\\\bin;E:\\\\Anaconda3\\\\Scripts;E:\\\\Anaconda3\\\\Library\\\\bin;E:\\\\cmder\\\\bin;E:\\\\cmder\\\\vendor\\\\conemu-maximus5\\\\ConEmu\\\\Scripts;E:\\\\cmder\\\\vendor\\\\conemu-maximus5;E:\\\\cmder\\\\vendor\\\\conemu-maximus5\\\\ConEmu;D:\\\\jdk1.8.0_51\\\\bin;C:\\\\WINDOWS\\\\system32;C:\\\\WINDOWS;C:\\\\WINDOWS\\\\System32\\\\Wbem;C:\\\\WINDOWS\\\\System32\\\\WindowsPowerShell\\\\v1.0\\\\;E:\\\\Program Files\\\\TortoiseSVN\\\\bin;C:\\\\Users\\\\jason\\\\Anaconda2;E:\\\\Program Files\\\\CodeBlocks\\\\MinGW\\\\bin;E:\\\\Program Files\\\\Git\\\\bin;E:\\\\Program Files\\\\Git\\\\cmd;C:\\\\Program Files (x86)\\\\Windows Kits\\\\8.1\\\\Windows Performance Toolkit\\\\;E:\\\\cmder;C:\\\\Users\\\\jason\\\\.gradle\\\\wrapper\\\\dists\\\\gradle-4.0-bin\\\\3p92xsbhik5vmig8i90n16yxc\\\\gradle-4.0\\\\bin;D:\\\\apache-maven-3.5.2\\\\bin;E:\\\\Anaconda3;E:\\\\Anaconda3\\\\Scripts;E:\\\\Anaconda3\\\\Library\\\\bin;C:\\\\Users\\\\jason\\\\AppData\\\\Local\\\\Microsoft\\\\WindowsApps;E:\\\\Program Files\\\\nodejs\\\\node_global;C:\\\\Users\\\\jason\\\\AppData\\\\Local\\\\Microsoft\\\\WindowsApps;E:\\\\Program Files\\\\Microsoft VS Code\\\\bin;C:\\\\Users\\\\jason\\\\AppData\\\\Local\\\\GitHubDesktop\\\\bin;E:\\\\Program Files\\\\Bandizip6.1\\\\;E:\\\\Program Files\\\\Git\\\\usr\\\\bin;E:\\\\Program Files\\\\Git\\\\usr\\\\share\\\\vim\\\\vim74;E:\\\\cmder\\\\'"
      ]
     },
     "execution_count": 30,
     "metadata": {},
     "output_type": "execute_result"
    }
   ],
   "source": [
    "os.getenv('path')"
   ]
  },
  {
   "cell_type": "code",
   "execution_count": null,
   "metadata": {
    "collapsed": false
   },
   "outputs": [],
   "source": []
  },
  {
   "cell_type": "code",
   "execution_count": null,
   "metadata": {
    "collapsed": true
   },
   "outputs": [],
   "source": []
  }
 ],
 "metadata": {
  "kernelspec": {
   "display_name": "Python 3",
   "language": "python",
   "name": "python3"
  },
  "language_info": {
   "codemirror_mode": {
    "name": "ipython",
    "version": 3
   },
   "file_extension": ".py",
   "mimetype": "text/x-python",
   "name": "python",
   "nbconvert_exporter": "python",
   "pygments_lexer": "ipython3",
   "version": "3.6.0"
  }
 },
 "nbformat": 4,
 "nbformat_minor": 2
}
