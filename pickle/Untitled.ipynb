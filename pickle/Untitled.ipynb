{
 "cells": [
  {
   "cell_type": "code",
   "execution_count": 1,
   "metadata": {
    "collapsed": true
   },
   "outputs": [],
   "source": [
    "import pickle"
   ]
  },
  {
   "cell_type": "code",
   "execution_count": 5,
   "metadata": {
    "collapsed": false
   },
   "outputs": [],
   "source": [
    "state = {\n",
    "    \"version\" : \"123\",\n",
    "    \"byNameDirs\" : \"123\",\n",
    "    \"results\" : \"123\",\n",
    "    \"inputs\" : \"123\",\n",
    "    \"jenkins\" : \"123\",\n",
    "    \"dirStates\" : \"123\",\n",
    "    \"buildState\" : \"123\"\n",
    "}"
   ]
  },
  {
   "cell_type": "code",
   "execution_count": 22,
   "metadata": {
    "collapsed": false
   },
   "outputs": [],
   "source": [
    "with open('dump.pickle','wb') as f:\n",
    "    pickle.dump(state,f)"
   ]
  },
  {
   "cell_type": "code",
   "execution_count": 23,
   "metadata": {
    "collapsed": false
   },
   "outputs": [
    {
     "name": "stdout",
     "output_type": "stream",
     "text": [
      " 驱动器 D 中的卷没有标签。\n",
      " 卷的序列号是 2E66-0EF2\n",
      "\n",
      " D:\\github\\A_DJH\\DJH-Python\\libs\\pickle 的目录\n",
      "\n",
      "2018/03/13  13:00    <DIR>          .\n",
      "2018/03/13  13:00    <DIR>          ..\n",
      "2018/03/13  12:34    <DIR>          .ipynb_checkpoints\n",
      "2018/03/13  13:00                 6 dump.pickle\n",
      "2018/03/13  13:00             3,641 Untitled.ipynb\n",
      "               2 个文件          3,647 字节\n",
      "               3 个目录 90,138,574,848 可用字节\n"
     ]
    }
   ],
   "source": [
    "ls"
   ]
  },
  {
   "cell_type": "code",
   "execution_count": 24,
   "metadata": {
    "collapsed": false
   },
   "outputs": [],
   "source": [
    "with open('dump.pickle','rb') as f:\n",
    "    state=pickle.load(f)"
   ]
  },
  {
   "cell_type": "code",
   "execution_count": 25,
   "metadata": {
    "collapsed": false
   },
   "outputs": [
    {
     "data": {
      "text/plain": [
       "{}"
      ]
     },
     "execution_count": 25,
     "metadata": {},
     "output_type": "execute_result"
    }
   ],
   "source": [
    "state"
   ]
  },
  {
   "cell_type": "code",
   "execution_count": null,
   "metadata": {
    "collapsed": true
   },
   "outputs": [],
   "source": []
  }
 ],
 "metadata": {
  "kernelspec": {
   "display_name": "Python 3",
   "language": "python",
   "name": "python3"
  },
  "language_info": {
   "codemirror_mode": {
    "name": "ipython",
    "version": 3
   },
   "file_extension": ".py",
   "mimetype": "text/x-python",
   "name": "python",
   "nbconvert_exporter": "python",
   "pygments_lexer": "ipython3",
   "version": "3.6.0"
  }
 },
 "nbformat": 4,
 "nbformat_minor": 2
}
